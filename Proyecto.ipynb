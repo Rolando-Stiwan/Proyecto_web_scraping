{
 "cells": [
  {
   "cell_type": "code",
   "execution_count": 1,
   "metadata": {},
   "outputs": [],
   "source": [
    "# Se importan las librerias necesarias\n",
    "from bs4 import BeautifulSoup\n",
    "import requests\n",
    "import pandas as pd\n",
    "import numpy as np\n",
    "from datetime import date"
   ]
  },
  {
   "cell_type": "code",
   "execution_count": 2,
   "metadata": {},
   "outputs": [],
   "source": [
    "# Se carga la pagina para realizar el scraping\n",
    "\n",
    "url = 'https://cuspide.com/100-mas-vendidos/'\n",
    "r = requests.get(url)\n",
    "\n",
    "if r.status_code == 200:\n",
    "    # El código 200 indica que la solicitud fue exitosa\n",
    "    html_doc = r.text\n",
    "    soup = BeautifulSoup(html_doc, 'html.parser')\n",
    "else:\n",
    "    print(\"Error en la solicitud web. Código de estado:\", r.status_code)"
   ]
  },
  {
   "cell_type": "code",
   "execution_count": 3,
   "metadata": {},
   "outputs": [],
   "source": [
    "# Despues de localizar las etiquetas se procede a extraer los enlaces de cada libro y el nombre\n",
    "\n",
    "links = soup.find_all('a')\n",
    "enlaces = []\n",
    "nombres = []\n",
    "for link in links:\n",
    "        href = link.get('href')\n",
    "        if href and '/producto/' in href:\n",
    "            enlace = href\n",
    "            nombre = link.text.strip()\n",
    "            enlaces.append(enlace)\n",
    "            nombres.append(nombre)\n",
    "\n",
    "# Este codigo se hizo porque los enlaces salen repetidos\n",
    "enlaces_sd = []\n",
    "for j in enlaces:\n",
    "    if j not in enlaces_sd:\n",
    "        enlaces_sd.append(j)"
   ]
  },
  {
   "cell_type": "code",
   "execution_count": 4,
   "metadata": {},
   "outputs": [],
   "source": [
    "# Se realiza una limpieza a la lista de nombres\n",
    "nombres = [elemento.replace(\".\", \"\").strip() for elemento in nombres]\n",
    "nombres = [elemento for elemento in nombres if elemento]\n",
    "\n",
    "\n",
    "# Se hace el scraping para obtener los precios en pesos argentinos\n",
    "bdi_elements = soup.find_all('bdi')\n",
    "precio_pesos = []\n",
    "# Recorre la lista de elementos y extrae su contenido de texto\n",
    "for bdi_element in bdi_elements:\n",
    "    precio = bdi_element.text.strip()\n",
    "    precio_pesos.append(precio)\n",
    "\n",
    "# Se realiza una limpieza al precio\n",
    "precio_pesos = [elemento.replace('$', '').replace('.', '').replace(',', '.').strip() for elemento in precio_pesos]\n",
    "precio_pesos_array = np.array(precio_pesos, dtype=float)\n",
    "\n",
    "# Se ellimina el primer valor\n",
    "precio_pesos_array = np.delete(precio_pesos_array, 0)"
   ]
  },
  {
   "cell_type": "code",
   "execution_count": 5,
   "metadata": {},
   "outputs": [],
   "source": [
    "# Se hace el scraping del precio de cada libro en dolares $US\n",
    "\n",
    "precio_dolares = []  # Aquí almacenaremos los precios en dólares\n",
    "\n",
    "for url_libro in enlaces_sd:\n",
    "    try:\n",
    "        precio_response = requests.get(url_libro)\n",
    "        if precio_response.status_code == 200:\n",
    "            html_precio = precio_response.text\n",
    "            precio_bus = BeautifulSoup(html_precio, features='html.parser')\n",
    "            precio_libro_usd = precio_bus.find('span', style='font-size: 1.3em')\n",
    "\n",
    "            if precio_libro_usd:\n",
    "                precio_dolares.append(precio_libro_usd.text.strip().replace(',','.'))\n",
    "            else:\n",
    "                print(f'No se encontró el precio en la página: {url_libro}')\n",
    "        else:\n",
    "            print(f'Error en la solicitud de la página: {url_libro}')\n",
    "    except Exception as e:\n",
    "        print(f'Error al procesar el enlace {url_libro}: {str(e)}')\n",
    "\n"
   ]
  },
  {
   "cell_type": "code",
   "execution_count": 6,
   "metadata": {},
   "outputs": [],
   "source": [
    "# Hacemos la carga de la pagina donde se extraera el precio del dolar Blue\n",
    "\n",
    "url = 'https://www.cronista.com/MercadosOnline/dolar.html'\n",
    "r = requests.get(url)\n",
    "\n",
    "if r.status_code == 200:\n",
    "    # El código 200 indica que la solicitud fue exitosa\n",
    "    html_doc = r.text\n",
    "    soup = BeautifulSoup(html_doc, 'html.parser')\n",
    "    # Resto del código para extraer los nombres de los libros\n",
    "else:\n",
    "    print(\"Error en la solicitud web. Código de estado:\", r.status_code)"
   ]
  },
  {
   "cell_type": "code",
   "execution_count": 7,
   "metadata": {},
   "outputs": [
    {
     "name": "stdout",
     "output_type": "stream",
     "text": [
      "Dolar Blue: 925.0\n"
     ]
    }
   ],
   "source": [
    "# Se hace el scraping en la pagina\n",
    "\n",
    "div_sell_values = soup.find_all('div', class_='sell-value')\n",
    "\n",
    "# Inicializa una lista para almacenar los precios\n",
    "precios = []\n",
    "\n",
    "# Recorre los dos primeros elementos <div> (precios)\n",
    "for div in div_sell_values[:2]:\n",
    "    # Busca el elemento <span> dentro de <div> para obtener el precio\n",
    "    span = div.find('span', class_='currency')\n",
    "    precio = div.text.strip()\n",
    "\n",
    "    # Agrega el precio a la lista de precios\n",
    "    precios.append(precio)\n",
    "\n",
    "# Ahora, precios[1] contienen el precio del dolar Blue\n",
    "precios = [e.replace('$', '').replace(',', '.').strip() for e in precios]\n",
    "precios_array = np.array(precios, dtype=float)\n",
    "\n",
    "\n",
    "dolar_blue = precios_array[1]\n",
    "\n",
    "precio_dolar_blue = np.round(precio_pesos_array / dolar_blue, decimals=2)\n",
    "\n",
    "print('Dolar Blue:', dolar_blue)\n",
    "\n",
    "# Se pone la fecha del scraping \n",
    "fecha = date.today()\n",
    "\n"
   ]
  },
  {
   "cell_type": "code",
   "execution_count": 18,
   "metadata": {},
   "outputs": [],
   "source": [
    "datos = {'titulo': nombres, 'url': enlaces_sd, 'precio': precio_pesos_array, 'precio_usd': precio_dolares, 'precio_usd_blue': precio_dolar_blue, 'fecha': fecha}\n",
    "df = pd.DataFrame(datos)\n",
    "#df.head()\n",
    "df.to_csv('cuspide.csv', index=False, encoding='utf-8')\n"
   ]
  },
  {
   "cell_type": "markdown",
   "metadata": {},
   "source": [
    "##  CARGA DE LA BASE DE DATOS"
   ]
  },
  {
   "cell_type": "code",
   "execution_count": 19,
   "metadata": {},
   "outputs": [],
   "source": [
    "import pymysql\n",
    "import csv"
   ]
  },
  {
   "cell_type": "code",
   "execution_count": 25,
   "metadata": {},
   "outputs": [],
   "source": [
    "# Leer los datos de conexión desde el archivo de configuración\n",
    "with open(\"config.txt\", \"r\") as config_file:\n",
    "    config = {}\n",
    "    for line in config_file:\n",
    "        key, value = line.strip().split(\"=\")\n",
    "        config[key] = value\n",
    "\n",
    "# Establecer la conexión utilizando los datos de configuración\n",
    "conexion = pymysql.connect(host=config[\"Host\"], user=config[\"User\"], passwd=config[\"Password\"], db=config[\"Database\"])\n",
    "cursor = conexion.cursor()"
   ]
  },
  {
   "cell_type": "code",
   "execution_count": 32,
   "metadata": {},
   "outputs": [],
   "source": [
    "# Crea una base de datos\n",
    "cursor.execute(\"DROP TABLE IF EXISTS cuspide\")\n",
    "cursor.execute(\"CREATE DATABASE IF NOT EXISTS cuspide\")\n",
    "\n",
    "# Selecciona la base de datos recién creada\n",
    "cursor.execute(\"USE cuspide\")\n",
    "\n",
    "# Se crea la tabla\n",
    "cuspide =   \"\"\"CREATE TABLE IF NOT EXISTS top_100 (\n",
    "                    IdLibro           INT AUTO_INCREMENT,\n",
    "                    titulo             VARCHAR(150),\n",
    "                    url                VARCHAR(180),\n",
    "                    precio             DECIMAL(10,2),\n",
    "                    precio_usd         DECIMAL(8,2),\n",
    "                    precio_usd_blue    DECIMAL(8,2),\n",
    "                    fecha              DATE,\n",
    "                    PRIMARY KEY (IdLibro)\n",
    "                    );\n",
    "                    \"\"\"\n",
    "\n",
    "\n",
    "# Ejecuta la consulta para crear la tabla\n",
    "cursor.execute(cuspide)\n",
    "\n",
    "# Confirma los cambios en la base de datos\n",
    "conexion.commit()"
   ]
  },
  {
   "cell_type": "code",
   "execution_count": 23,
   "metadata": {},
   "outputs": [],
   "source": [
    "# Abre el archivo CSV y lee los datos\n",
    "with open(\"cuspide.csv\", \"r\", newline=\"\") as csv_file:\n",
    "    csv_reader = csv.DictReader(csv_file)\n",
    "    \n",
    "    for row in csv_reader:\n",
    "        titulo = row[\"titulo\"]\n",
    "        url = row[\"url\"]\n",
    "        precio = row[\"precio\"]\n",
    "        precio_usd = row[\"precio_usd\"]\n",
    "        precio_usd_blue = row[\"precio_usd_blue\"]\n",
    "        fecha = row[\"fecha\"]\n",
    "        \n",
    "        # Insertar los datos en la tabla\n",
    "        cursor.execute(\"INSERT INTO top_100 (titulo, url, precio, precio_usd, precio_usd_blue, fecha) VALUES (%s, %s, %s, %s, %s, %s)\",\n",
    "                       (titulo, url, precio, precio_usd, precio_usd_blue, fecha))\n",
    "\n",
    "# Confirma los cambios en la base de datos\n",
    "conexion.commit()\n",
    "\n",
    "# Cierra la conexión\n",
    "conexion.close()\n"
   ]
  }
 ],
 "metadata": {
  "kernelspec": {
   "display_name": "Python 3",
   "language": "python",
   "name": "python3"
  },
  "language_info": {
   "codemirror_mode": {
    "name": "ipython",
    "version": 3
   },
   "file_extension": ".py",
   "mimetype": "text/x-python",
   "name": "python",
   "nbconvert_exporter": "python",
   "pygments_lexer": "ipython3",
   "version": "3.12.0"
  }
 },
 "nbformat": 4,
 "nbformat_minor": 2
}
